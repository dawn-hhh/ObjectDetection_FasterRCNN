{
 "cells": [
  {
   "cell_type": "code",
   "execution_count": null,
   "metadata": {},
   "outputs": [],
   "source": [
    "import cv2\n",
    "import numpy as np \n",
    "import pandas as pd\n",
    "import glob\n",
    "import csv\n",
    "import os\n",
    "import pdb"
   ]
  },
  {
   "cell_type": "code",
   "execution_count": null,
   "metadata": {},
   "outputs": [],
   "source": [
    "#original_image_folder = './test/original/' #path to original image folder\n",
    "gt_image_folder = '' #path to gt image folder\n",
    "#original_images = glob.glob(original_image_folder + '*.jpg') + glob.glob(original_image_folder + '*.png') +  glob.glob(original_image_folder + '*.jpeg')\n",
    "gt_images = glob.glob(gt_image_folder + '*.jpg') + glob.glob(gt_image_folder + '*.png') +  glob.glob(gt_image_folder + '*.jpeg') + glob.glob(gt_image_folder + '*.JPEG')\n",
    "label_name = '' #set name of the label"
   ]
  },
  {
   "cell_type": "markdown",
   "metadata": {},
   "source": [
    "## Create Bounding Box and Write CSV File:"
   ]
  },
  {
   "cell_type": "code",
   "execution_count": null,
   "metadata": {},
   "outputs": [],
   "source": [
    "os.makedirs('bbox',exist_ok=True)\n",
    "training_path = '' #Training data file path\n",
    "new_dict = {'wd':[],'bbox':[]}\n",
    "\n",
    "for j,i in enumerate(gt_images):\n",
    "        img = cv2.imread(i)\n",
    "        ret,thresh = cv2.threshold(cv2.cvtColor(img, cv2.COLOR_RGB2GRAY),127,255,cv2.THRESH_BINARY)\n",
    "        image,contours,hier = cv2.findContours(thresh,cv2.RETR_TREE,cv2.CHAIN_APPROX_SIMPLE)\n",
    "        bbox_list = []\n",
    "        x = None\n",
    "        for c in contours:\n",
    "            x,y,w,h = cv2.boundingRect(c)\n",
    "            #pdb.set_trace()\n",
    "            #only keep large boxes or 0 0 0 0 (negative example) boxes\n",
    "            \n",
    "            if w>1 and w>1 : #suppress small bounding boxes (optional)\n",
    "                #bbox_list.extend([x,y,x+w-1,y+h-1])\n",
    "                bbox_list.extend([x,y,w,h])\n",
    "                cv2.rectangle(img,(x,y),(x+w-1,y+h-1),(0,255,0),1)\n",
    "            else: \n",
    "                continue\n",
    "        #new_dict.setdefault('fn', []).append(i.replace('.png','.jpeg').replace('\\\\','/').replace(gt_image_folder,training_path))\n",
    "        if bbox_list: #remove gt files that do not contain any bboxes\n",
    "            new_dict.setdefault('wd', []).append(i.replace('\\\\','/').replace(gt_image_folder,training_path).split('_')[0]+'.png')\n",
    "            new_dict.setdefault('bbox', []).append(' '.join (str(p) for p in bbox_list))\n",
    "            #draw bounding boxes on gt images\n",
    "            cv2.imwrite('bbox_MATest/{}_BBox.png'.format(i.split('/')[1].split('.')[0]),img)\n",
    "            #print (x,y,w,h)\n",
    "            print('writing bbox_MATest/{}_BBox.png...'.format(j))\n",
    "        else:\n",
    "            #output 0,0,0,0 for empty image (negative training samples)\n",
    "            bbox_list.extend([0,0,1,1])\n",
    "            new_dict.setdefault('wd', []).append(i.replace('\\\\','/').replace(gt_image_folder,training_path).split('_')[0]+'.png')\n",
    "            new_dict.setdefault('bbox', []).append(' '.join (str(p) for p in bbox_list))"
   ]
  },
  {
   "cell_type": "code",
   "execution_count": null,
   "metadata": {},
   "outputs": [],
   "source": [
    "df = pd.DataFrame(new_dict, columns=['wd','bbox'])\n",
    "df.to_csv('.csv', index=False) #change the name of the output .csv file"
   ]
  },
  {
   "cell_type": "code",
   "execution_count": null,
   "metadata": {},
   "outputs": [],
   "source": [
    "print(bbox_list)"
   ]
  },
  {
   "cell_type": "markdown",
   "metadata": {},
   "source": [
    "## End"
   ]
  }
 ],
 "metadata": {
  "kernelspec": {
   "display_name": "Python 3",
   "language": "python",
   "name": "python3"
  },
  "language_info": {
   "codemirror_mode": {
    "name": "ipython",
    "version": 3
   },
   "file_extension": ".py",
   "mimetype": "text/x-python",
   "name": "python",
   "nbconvert_exporter": "python",
   "pygments_lexer": "ipython3",
   "version": "3.6.5"
  },
  "toc": {
   "base_numbering": 1,
   "nav_menu": {},
   "number_sections": false,
   "sideBar": true,
   "skip_h1_title": false,
   "title_cell": "Table of Contents",
   "title_sidebar": "Contents",
   "toc_cell": false,
   "toc_position": {},
   "toc_section_display": true,
   "toc_window_display": false
  }
 },
 "nbformat": 4,
 "nbformat_minor": 2
}
