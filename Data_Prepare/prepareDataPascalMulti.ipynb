{
 "cells": [
  {
   "cell_type": "code",
   "execution_count": 1,
   "metadata": {},
   "outputs": [],
   "source": [
    "import cv2\n",
    "import numpy as np \n",
    "import pandas as pd\n",
    "import glob\n",
    "import csv\n",
    "import os\n",
    "import pdb"
   ]
  },
  {
   "cell_type": "code",
   "execution_count": 2,
   "metadata": {},
   "outputs": [],
   "source": [
    "#original_image_folder = '' #path to original image folder\n",
    "gt_image_folder = '' #path to gt image folder\n",
    "#original_images = glob.glob(original_image_folder + '*.jpg') + glob.glob(original_image_folder + '*.png') +  glob.glob(original_image_folder + '*.jpeg')\n",
    "gt_images = glob.glob(gt_image_folder + '*.jpg') + glob.glob(gt_image_folder + '*.png') +  glob.glob(gt_image_folder + '*.jpeg') + glob.glob(gt_image_folder + '*.JPEG')\n",
    "label_name = '' #set name of the label"
   ]
  },
  {
   "cell_type": "markdown",
   "metadata": {},
   "source": [
    "## Create Bounding Box and Write CSV File:"
   ]
  },
  {
   "cell_type": "code",
   "execution_count": 3,
   "metadata": {},
   "outputs": [
    {
     "name": "stdout",
     "output_type": "stream",
     "text": [
      "writing bbox_MATest/0_BBox.png...\n",
      "writing bbox_MATest/1_BBox.png...\n",
      "writing bbox_MATest/2_BBox.png...\n",
      "writing bbox_MATest/3_BBox.png...\n",
      "writing bbox_MATest/4_BBox.png...\n",
      "writing bbox_MATest/5_BBox.png...\n",
      "writing bbox_MATest/6_BBox.png...\n",
      "writing bbox_MATest/7_BBox.png...\n",
      "writing bbox_MATest/8_BBox.png...\n",
      "writing bbox_MATest/9_BBox.png...\n",
      "writing bbox_MATest/10_BBox.png...\n",
      "writing bbox_MATest/11_BBox.png...\n",
      "writing bbox_MATest/12_BBox.png...\n",
      "writing bbox_MATest/13_BBox.png...\n",
      "writing bbox_MATest/14_BBox.png...\n",
      "writing bbox_MATest/15_BBox.png...\n",
      "writing bbox_MATest/16_BBox.png...\n",
      "writing bbox_MATest/17_BBox.png...\n",
      "writing bbox_MATest/18_BBox.png...\n",
      "writing bbox_MATest/19_BBox.png...\n"
     ]
    }
   ],
   "source": [
    "os.makedirs('bbox',exist_ok=True)\n",
    "training_path = './testWindow/original/' #Training data file path\n",
    "new_dict = {'wd':[],'bbox':[]}\n",
    "\n",
    "for j,i in enumerate(gt_images):\n",
    "        img = cv2.imread(i)\n",
    "        ret,thresh = cv2.threshold(cv2.cvtColor(img, cv2.COLOR_RGB2GRAY),127,255,cv2.THRESH_BINARY)\n",
    "        image,contours,hier = cv2.findContours(thresh,cv2.RETR_TREE,cv2.CHAIN_APPROX_SIMPLE)\n",
    "        bbox_list = []\n",
    "        x = None\n",
    "        for c in contours:\n",
    "            x,y,w,h = cv2.boundingRect(c)\n",
    "            #pdb.set_trace()\n",
    "            #only keep large boxes or 0 0 0 0 (negative example) boxes\n",
    "            \n",
    "            if w>1 and w>1 : #suppress small bounding boxes (optional)\n",
    "                #bbox_list.extend([x,y,x+w-1,y+h-1])\n",
    "                bbox_list.extend([x,y,w,h])\n",
    "                cv2.rectangle(img,(x,y),(x+w-1,y+h-1),(0,255,0),1)\n",
    "            else: \n",
    "                continue\n",
    "        #new_dict.setdefault('fn', []).append(i.replace('.png','.jpeg').replace('\\\\','/').replace(gt_image_folder,training_path))\n",
    "        if bbox_list: #remove gt files that do not contain any bboxes\n",
    "            new_dict.setdefault('wd', []).append(i.replace('\\\\','/').replace(gt_image_folder,training_path).split('_')[0]+'.png')\n",
    "            new_dict.setdefault('bbox', []).append(' '.join (str(p) for p in bbox_list))\n",
    "            #draw bounding boxes on gt images\n",
    "            cv2.imwrite('bbox/{}_BBox.png'.format(i.split('/')[1].split('.')[0]),img)\n",
    "            #print (x,y,w,h)\n",
    "            print('writing bbox/{}_BBox.png...'.format(j))\n",
    "        else:\n",
    "            #output 0,0,0,0 for empty image (negative training samples)\n",
    "            bbox_list.extend([0,0,1,1])\n",
    "            new_dict.setdefault('wd', []).append(i.replace('\\\\','/').replace(gt_image_folder,training_path).split('_')[0]+'.png')\n",
    "            new_dict.setdefault('bbox', []).append(' '.join (str(p) for p in bbox_list))"
   ]
  },
  {
   "cell_type": "code",
   "execution_count": 4,
   "metadata": {},
   "outputs": [],
   "source": [
    "df = pd.DataFrame(new_dict, columns=['wd','bbox'])\n",
    "df.to_csv('window_test_MATLAB.csv', index=False) #change the name of the output .csv file"
   ]
  },
  {
   "cell_type": "code",
   "execution_count": 5,
   "metadata": {},
   "outputs": [
    {
     "name": "stdout",
     "output_type": "stream",
     "text": [
      "[1571, 1090, 29, 110, 1408, 1037, 24, 110, 55, 1019, 38, 84, 1348, 985, 27, 106, 134, 982, 49, 84, 1093, 952, 50, 55, 981, 946, 47, 55, 506, 935, 47, 63, 397, 935, 50, 62, 1291, 930, 36, 59, 809, 930, 109, 60, 621, 930, 112, 58, 205, 927, 54, 38, 1220, 921, 49, 51, 275, 913, 52, 45, 1571, 906, 29, 113, 1410, 860, 26, 119, 59, 841, 27, 114, 1348, 830, 28, 101, 134, 813, 47, 108, 1096, 810, 45, 67, 979, 809, 52, 61, 395, 800, 48, 63, 505, 798, 44, 71, 806, 797, 113, 62, 1296, 796, 32, 48, 623, 796, 107, 63, 204, 789, 45, 46, 1222, 785, 47, 51, 274, 775, 48, 44, 1583, 710, 17, 115, 1413, 682, 24, 113, 54, 669, 30, 119, 983, 667, 47, 71, 1094, 665, 49, 69, 808, 662, 111, 64, 499, 662, 57, 69, 1347, 660, 35, 112, 392, 659, 54, 74, 620, 658, 113, 69, 1301, 656, 28, 47, 130, 656, 45, 107, 1227, 650, 46, 53, 200, 645, 45, 53, 268, 640, 55, 52, 1098, 527, 51, 70, 807, 527, 117, 69, 621, 525, 111, 71, 984, 524, 54, 76, 1418, 520, 29, 103, 1351, 510, 32, 107, 1226, 510, 47, 51, 503, 510, 49, 88, 1588, 509, 12, 120, 1302, 509, 33, 53, 388, 509, 57, 89, 202, 508, 39, 46, 266, 507, 52, 48, 127, 503, 46, 103, 44, 503, 40, 110, 982, 390, 59, 35, 807, 388, 114, 77, 620, 388, 113, 77, 495, 388, 54, 36, 382, 387, 56, 40, 1097, 386, 57, 39, 264, 371, 55, 47, 1303, 368, 28, 55, 1225, 368, 53, 55, 188, 365, 53, 55, 1355, 356, 25, 46, 135, 349, 30, 55, 1413, 337, 22, 55, 56, 330, 22, 65, 380, 253, 58, 35, 984, 247, 58, 38, 618, 247, 111, 86, 807, 246, 118, 93, 492, 245, 59, 41, 1100, 244, 55, 44, 262, 236, 52, 47, 1303, 225, 42, 50, 1230, 225, 53, 61, 181, 225, 57, 51, 1354, 192, 26, 52, 128, 190, 38, 63, 50, 159, 25, 62, 1415, 154, 22, 58, 620, 119, 110, 86, 807, 111, 120, 90, 986, 101, 56, 46, 1100, 98, 60, 46, 261, 95, 53, 54, 494, 90, 53, 54, 382, 90, 51, 56, 1231, 84, 51, 60, 176, 79, 58, 55, 1308, 72, 44, 61, 118, 27, 46, 67, 1356, 25, 28, 59, 808, 0, 112, 57, 612, 0, 120, 64, 257, 0, 56, 20, 49, 0, 27, 41]\n"
     ]
    }
   ],
   "source": [
    "print(bbox_list)"
   ]
  },
  {
   "cell_type": "markdown",
   "metadata": {},
   "source": [
    "## End"
   ]
  }
 ],
 "metadata": {
  "kernelspec": {
   "display_name": "Python 3",
   "language": "python",
   "name": "python3"
  },
  "language_info": {
   "codemirror_mode": {
    "name": "ipython",
    "version": 3
   },
   "file_extension": ".py",
   "mimetype": "text/x-python",
   "name": "python",
   "nbconvert_exporter": "python",
   "pygments_lexer": "ipython3",
   "version": "3.6.7"
  },
  "toc": {
   "base_numbering": 1,
   "nav_menu": {},
   "number_sections": false,
   "sideBar": true,
   "skip_h1_title": false,
   "title_cell": "Table of Contents",
   "title_sidebar": "Contents",
   "toc_cell": false,
   "toc_position": {},
   "toc_section_display": true,
   "toc_window_display": false
  }
 },
 "nbformat": 4,
 "nbformat_minor": 2
}
